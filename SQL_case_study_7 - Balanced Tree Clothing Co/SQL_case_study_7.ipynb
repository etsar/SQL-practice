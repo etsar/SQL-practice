{
 "cells": [
  {
   "cell_type": "markdown",
   "id": "1dd637dc",
   "metadata": {},
   "source": [
    "*Source of the case study:* https://8weeksqlchallenge.com/case-study-7/\n",
    "\n",
    "---"
   ]
  },
  {
   "cell_type": "markdown",
   "id": "b68a27c6",
   "metadata": {},
   "source": [
    "## Case Study #7 - Balanced Tree Clothing Co."
   ]
  },
  {
   "cell_type": "markdown",
   "id": "d01c7332",
   "metadata": {},
   "source": [
    "**Introduction**\n",
    "<br>Balanced Tree Clothing Company prides themselves on providing an optimised range of clothing and lifestyle wear for the modern adventurer!\n",
    "\n",
    "Danny, the CEO of this trendy fashion company has asked you to assist the team’s merchandising teams analyse their sales performance and generate a basic financial report to share with the wider business."
   ]
  },
  {
   "cell_type": "markdown",
   "id": "5886a893",
   "metadata": {},
   "source": [
    "**Available Data**\n",
    "<br>There is a total of 4 datasets for this case study - however you will only need to utilise 2 main tables to solve all of the regular questions, and the additional 2 tables are used only for the bonus challenge question!"
   ]
  },
  {
   "cell_type": "markdown",
   "id": "4b85b569",
   "metadata": {},
   "source": [
    "**Product Details**\n",
    "<br>`balanced_tree.product_details` includes all information about the entire range that Balanced Clothing sells in their store."
   ]
  },
  {
   "cell_type": "markdown",
   "id": "14db6c65",
   "metadata": {},
   "source": [
    "**Product Sales**\n",
    "<br>`balanced_tree.sales` contains product level information for all the transactions made for Balanced Tree including quantity, price, percentage discount, member status, a transaction ID and also the transaction timestamp."
   ]
  },
  {
   "cell_type": "markdown",
   "id": "4d6ced6c",
   "metadata": {},
   "source": [
    "**Product Hierarcy & Product Price**\n",
    "<br>Thes tables are used only for the bonus question where we will use them to recreate the `balanced_tree.product_details` table."
   ]
  },
  {
   "cell_type": "markdown",
   "id": "d008fe8a",
   "metadata": {},
   "source": [
    "All datasets exist within the `balanced_tree` database schema, that you can find [here](https://github.com/etsar/SQL-practice/blob/main/SQL_case_study_7%20-%20Balanced%20Tree%20Clothing%20Co/SQL_case_study_7_DBschema.ipynb)."
   ]
  },
  {
   "cell_type": "markdown",
   "id": "19f91b7f",
   "metadata": {},
   "source": [
    "**Case Study Questions**"
   ]
  },
  {
   "cell_type": "markdown",
   "id": "5e49ea8b",
   "metadata": {},
   "source": [
    "The following questions can be considered key business questions and metrics that the Balanced Tree team requires for their monthly reports.\n",
    "\n",
    "Each question can be answered using a single query - but as you are writing the SQL to solve each individual problem, keep in mind how you would generate all of these metrics in a single SQL script which the Balanced Tree team can run each month."
   ]
  },
  {
   "cell_type": "markdown",
   "id": "ace11eed",
   "metadata": {},
   "source": [
    "**1. High Level Sales Analysis**\n",
    "1. What was the total quantity sold for all products?\n",
    "1. What is the total generated revenue for all products before discounts?\n",
    "1. What was the total discount amount for all products?"
   ]
  },
  {
   "cell_type": "markdown",
   "id": "c25157f7",
   "metadata": {},
   "source": [
    "**2. Transaction Analysis**\n",
    "1. How many unique transactions were there?\n",
    "1. What is the average unique products purchased in each transaction?\n",
    "1. What are the 25th, 50th and 75th percentile values for the revenue per transaction?\n",
    "1. What is the average discount value per transaction?\n",
    "1. What is the percentage split of all transactions for members vs non-members?\n",
    "1. What is the average revenue for member transactions and non-member transactions?"
   ]
  },
  {
   "cell_type": "markdown",
   "id": "a4708a72",
   "metadata": {},
   "source": [
    "**3. Product Analysis**\n",
    "1. What are the top 3 products by total revenue before discount?\n",
    "1. What is the total quantity, revenue and discount for each segment?\n",
    "1. What is the top selling product for each segment?\n",
    "1. What is the total quantity, revenue and discount for each category?\n",
    "1. What is the top selling product for each category?\n",
    "1. What is the percentage split of revenue by product for each segment?\n",
    "1. What is the percentage split of revenue by segment for each category?\n",
    "1. What is the percentage split of total revenue by category?\n",
    "1. What is the total transaction “penetration” for each product? (hint: penetration = number of transactions where at least 1 quantity of a product was purchased divided by total number of transactions)\n",
    "1. What is the most common combination of at least 1 quantity of any 3 products in a 1 single transaction?"
   ]
  },
  {
   "cell_type": "markdown",
   "id": "f9c0e63b",
   "metadata": {},
   "source": [
    "**4. Reporting Challenge**\n",
    "<br>Write a single SQL script that combines all of the previous questions into a scheduled report that the Balanced Tree team can run at the beginning of each month to calculate the previous month’s values.\n",
    "\n",
    "Imagine that the Chief Financial Officer (which is also Danny) has asked for all of these questions at the end of every month.\n",
    "\n",
    "He first wants you to generate the data for January only - but then he also wants you to demonstrate that you can easily run the same analysis for February without many changes (if at all).\n",
    "\n",
    "Feel free to split up your final outputs into as many tables as you need - but be sure to explicitly reference which table outputs relate to which question for full marks :)"
   ]
  },
  {
   "cell_type": "markdown",
   "id": "1c2f3312",
   "metadata": {},
   "source": [
    "**5. Bonus Challenge**\n",
    "<br>Use a single SQL query to transform the `product_hierarchy` and `product_prices` datasets to the `product_details` table.\n",
    "\n",
    "Hint: you may want to consider using a recursive CTE to solve this problem!\n",
    "\n",
    "---"
   ]
  },
  {
   "cell_type": "markdown",
   "id": "9abe823e",
   "metadata": {},
   "source": [
    "**1. High Level Sales Analysis**"
   ]
  },
  {
   "cell_type": "markdown",
   "id": "b374c146",
   "metadata": {},
   "source": [
    "**1.1. What was the total quantity sold for all products?**"
   ]
  },
  {
   "cell_type": "markdown",
   "id": "6bd6d9a0",
   "metadata": {},
   "source": [
    "**Query #1**\n",
    "\n",
    "    SELECT SUM(qty) AS sold_products_qty\n",
    "    FROM balanced_tree.sales;\n",
    "\n",
    "| sold_products_qty |\n",
    "| ----------------- |\n",
    "| 45216             |\n",
    "\n",
    "---"
   ]
  },
  {
   "cell_type": "markdown",
   "id": "a821f4c0",
   "metadata": {},
   "source": [
    "**1.2. What is the total generated revenue for all products before discounts?**"
   ]
  },
  {
   "cell_type": "markdown",
   "id": "13f761e4",
   "metadata": {},
   "source": [
    "**Query #2**\n",
    "\n",
    "    SELECT SUM(qty * price) AS total_revenue_before_discounts\n",
    "    FROM balanced_tree.sales;\n",
    "\n",
    "| total_revenue_before_discounts |\n",
    "| ------------------------------ |\n",
    "| 1289453                        |\n",
    "\n",
    "---"
   ]
  },
  {
   "cell_type": "markdown",
   "id": "59bbe9bb",
   "metadata": {},
   "source": [
    "**1.3. What was the total discount amount for all products?**"
   ]
  },
  {
   "cell_type": "markdown",
   "id": "b5403e26",
   "metadata": {},
   "source": [
    "**Query #3**\n",
    "\n",
    "    SELECT ROUND(SUM(qty * price * discount::numeric/100), 2) AS total_discount\n",
    "    FROM balanced_tree.sales;\n",
    "\n",
    "| total_discount |\n",
    "| -------------- |\n",
    "| 156229.14      |\n",
    "\n",
    "---"
   ]
  },
  {
   "cell_type": "markdown",
   "id": "017a6eba",
   "metadata": {},
   "source": [
    "**2. Transaction Analysis**"
   ]
  },
  {
   "cell_type": "markdown",
   "id": "c7277abd",
   "metadata": {},
   "source": [
    "**2.1. How many unique transactions were there?**"
   ]
  },
  {
   "cell_type": "markdown",
   "id": "e36c8a7d",
   "metadata": {},
   "source": [
    "**Query #4**\n",
    "\n",
    "    SELECT COUNT(DISTINCT txn_id) AS transactions_cnt\n",
    "    FROM balanced_tree.sales;\n",
    "\n",
    "| transactions_cnt |\n",
    "| ---------------- |\n",
    "| 2500             |\n",
    "\n",
    "---"
   ]
  },
  {
   "cell_type": "markdown",
   "id": "e72211e7",
   "metadata": {},
   "source": [
    "**2.2. What is the average unique products purchased in each transaction?**"
   ]
  },
  {
   "cell_type": "markdown",
   "id": "30317d66",
   "metadata": {},
   "source": [
    "**Query #5**\n",
    "\n",
    "    SELECT ROUND(AVG(product_txn_qty)) AS avg_products_qty\n",
    "    FROM (SELECT DISTINCT txn_id, \n",
    "                 COUNT(prod_id) OVER (PARTITION BY txn_id) AS product_txn_qty\n",
    "    \t  FROM balanced_tree.sales) t;\n",
    "\n",
    "| avg_products_qty |\n",
    "| ---------------- |\n",
    "| 6                |\n",
    "\n",
    "---"
   ]
  },
  {
   "cell_type": "markdown",
   "id": "6b081fa5",
   "metadata": {},
   "source": [
    "**2.3. What are the 25th, 50th and 75th percentile values for the revenue per transaction?**"
   ]
  },
  {
   "cell_type": "markdown",
   "id": "dc22d21c",
   "metadata": {},
   "source": [
    "**Query #6**\n",
    "\n",
    "    WITH t AS\n",
    "    (SELECT txn_id,\n",
    "     \t\tSUM(qty * price) AS transaction_revenue\n",
    "     FROM balanced_tree.sales\n",
    "     GROUP BY 1)\n",
    "    SELECT percentile_cont(0.25) WITHIN GROUP (ORDER BY transaction_revenue) AS revenue_25percentile,\n",
    "           percentile_cont(0.5) WITHIN GROUP (ORDER BY transaction_revenue) AS revenue_50percentile,\n",
    "           percentile_cont(0.75) WITHIN GROUP (ORDER BY transaction_revenue) AS revenue_75percentile\n",
    "    FROM t;\n",
    "\n",
    "| revenue_25percentile | revenue_50percentile | revenue_75percentile |\n",
    "| -------------------- | -------------------- | -------------------- |\n",
    "| 375.75               | 509.5                | 647                  |\n",
    "\n",
    "---"
   ]
  },
  {
   "cell_type": "markdown",
   "id": "ecc23ab0",
   "metadata": {},
   "source": [
    "**2.4. What is the average discount value per transaction?**"
   ]
  },
  {
   "cell_type": "markdown",
   "id": "494f1f01",
   "metadata": {},
   "source": [
    "**Query #7**\n",
    "\n",
    "    WITH t AS\n",
    "    (SELECT txn_id,\n",
    "    \t    SUM(qty * price * discount::numeric/100) AS txn_discount\n",
    "     FROM balanced_tree.sales\n",
    "     GROUP BY 1)\n",
    "    SELECT ROUND(AVG(txn_discount), 2) AS avg_txn_discount\n",
    "    FROM t;\n",
    "\n",
    "| avg_txn_discount |\n",
    "| ---------------- |\n",
    "| 62.49            |\n",
    "\n",
    "---"
   ]
  },
  {
   "cell_type": "markdown",
   "id": "17c318e7",
   "metadata": {},
   "source": [
    "**2.5. What is the percentage split of all transactions for members vs non-members?**"
   ]
  },
  {
   "cell_type": "markdown",
   "id": "8d874670",
   "metadata": {},
   "source": [
    "**Query #8**\n",
    "\n",
    "    SELECT member,\n",
    "    \t   ROUND(100*COUNT(member)::numeric / (SELECT COUNT(member) FROM balanced_tree.sales), 2) AS member_percentage  \n",
    "    FROM balanced_tree.sales\n",
    "    GROUP BY 1;\n",
    "\n",
    "| member | member_percentage |\n",
    "| ------ | ----------------- |\n",
    "| false  | 39.97             |\n",
    "| true   | 60.03             |\n",
    "\n",
    "---"
   ]
  },
  {
   "cell_type": "markdown",
   "id": "9ca1b767",
   "metadata": {},
   "source": [
    "**2.6. What is the average revenue for member transactions and non-member transactions?**"
   ]
  },
  {
   "cell_type": "markdown",
   "id": "070fb0e6",
   "metadata": {},
   "source": [
    "**Query #9**\n",
    "\n",
    "    SELECT member,\n",
    "    \t   SUM(qty * price) AS total_revenue_before_discounts \n",
    "    FROM balanced_tree.sales\n",
    "    GROUP BY 1;\n",
    "\n",
    "| member | total_revenue_before_discounts |\n",
    "| ------ | ------------------------------ |\n",
    "| false  | 512469                         |\n",
    "| true   | 776984                         |"
   ]
  },
  {
   "cell_type": "markdown",
   "id": "d95e8a87",
   "metadata": {},
   "source": [
    "Therefore, over 60% of revenue (before discounts) came from members, which is in line with the percentage split of all transactions for members vs non-members from the previous query.\n",
    "\n",
    "---"
   ]
  },
  {
   "cell_type": "markdown",
   "id": "d2050bb4",
   "metadata": {},
   "source": [
    "**3. Product Analysis**"
   ]
  },
  {
   "cell_type": "markdown",
   "id": "870d0813",
   "metadata": {},
   "source": [
    "**3.1. What are the top 3 products by total revenue before discount?**"
   ]
  },
  {
   "cell_type": "markdown",
   "id": "f824e081",
   "metadata": {},
   "source": [
    "**Query #10**\n",
    "\n",
    "    SELECT prod_id,\n",
    "    \t   product_name,\n",
    "    \t   SUM(qty * s.price) AS total_revenue_before_discounts \n",
    "    FROM balanced_tree.sales s\n",
    "    LEFT JOIN balanced_tree.product_details p ON s.prod_id = p.product_id\n",
    "    GROUP BY 1, 2\n",
    "    ORDER BY 3 DESC\n",
    "    LIMIT 3;\n",
    "\n",
    "| prod_id | product_name                 | total_revenue_before_discounts |\n",
    "| ------- | ---------------------------- | ------------------------------ |\n",
    "| 2a2353  | Blue Polo Shirt - Mens       | 217683                         |\n",
    "| 9ec847  | Grey Fashion Jacket - Womens | 209304                         |\n",
    "| 5d267b  | White Tee Shirt - Mens       | 152000                         |\n",
    "\n",
    "---"
   ]
  },
  {
   "cell_type": "markdown",
   "id": "1e1b8e5c",
   "metadata": {},
   "source": [
    "**3.2. What is the total quantity, revenue and discount for each segment?**"
   ]
  },
  {
   "cell_type": "markdown",
   "id": "7ace4d6d",
   "metadata": {},
   "source": [
    "**Query #11**\n",
    "\n",
    "    SELECT segment_id,\n",
    "    \t   segment_name,\n",
    "           SUM(qty) AS total_qty,\n",
    "    \t   SUM(qty * s.price) AS total_revenue_before_discounts,\n",
    "           ROUND(SUM(qty * s.price * discount::numeric/100), 2) AS total_discount\n",
    "    FROM balanced_tree.sales s\n",
    "    LEFT JOIN balanced_tree.product_details p ON s.prod_id = p.product_id\n",
    "    GROUP BY 1, 2\n",
    "    ORDER BY 1;\n",
    "\n",
    "| segment_id | segment_name | total_qty | total_revenue_before_discounts | total_discount |\n",
    "| ---------- | ------------ | --------- | ------------------------------ | -------------- |\n",
    "| 3          | Jeans        | 11349     | 208350                         | 25343.97       |\n",
    "| 4          | Jacket       | 11385     | 366983                         | 44277.46       |\n",
    "| 5          | Shirt        | 11265     | 406143                         | 49594.27       |\n",
    "| 6          | Socks        | 11217     | 307977                         | 37013.44       |"
   ]
  },
  {
   "cell_type": "markdown",
   "id": "dc570cd4",
   "metadata": {},
   "source": [
    "From the table above we can see that most of the items sold were in the `Jacket` segment, but the highest revenue (before and after discounts) was in the `Shirt` segment. \n",
    "\n",
    "---"
   ]
  },
  {
   "cell_type": "markdown",
   "id": "fa316eb3",
   "metadata": {},
   "source": [
    "**3.3. What is the top selling product for each segment?**"
   ]
  },
  {
   "cell_type": "markdown",
   "id": "a2d21968",
   "metadata": {},
   "source": [
    "**Query #12**\n",
    "\n",
    "    WITH t AS\n",
    "    (SELECT segment_id,\n",
    "    \t    segment_name,\n",
    "            product_id,\n",
    "            product_name,\n",
    "            SUM(qty) AS total_qty,\n",
    "            RANK() OVER (PARTITION BY segment_id ORDER BY SUM(qty) DESC) AS qty_rank\n",
    "    FROM balanced_tree.sales s\n",
    "    LEFT JOIN balanced_tree.product_details p ON s.prod_id = p.product_id\n",
    "    GROUP BY 1, 2, 3, 4)\n",
    "    \n",
    "    SELECT segment_id,\n",
    "    \t   segment_name,\n",
    "           product_id,\n",
    "           product_name,\n",
    "           total_qty\n",
    "    FROM t\n",
    "    WHERE qty_rank=1;\n",
    "\n",
    "| segment_id | segment_name | product_id | product_name                  | total_qty |\n",
    "| ---------- | ------------ | ---------- | ----------------------------- | --------- |\n",
    "| 3          | Jeans        | c4a632     | Navy Oversized Jeans - Womens | 3856      |\n",
    "| 4          | Jacket       | 9ec847     | Grey Fashion Jacket - Womens  | 3876      |\n",
    "| 5          | Shirt        | 2a2353     | Blue Polo Shirt - Mens        | 3819      |\n",
    "| 6          | Socks        | f084eb     | Navy Solid Socks - Mens       | 3792      |\n",
    "\n",
    "---"
   ]
  },
  {
   "cell_type": "markdown",
   "id": "8f803c5a",
   "metadata": {},
   "source": [
    "**3.4. What is the total quantity, revenue and discount for each category?**"
   ]
  },
  {
   "cell_type": "markdown",
   "id": "d1cc6270",
   "metadata": {},
   "source": [
    "**Query #13**\n",
    "\n",
    "    SELECT category_id,\n",
    "    \t   category_name,\n",
    "           SUM(qty) AS total_qty,\n",
    "    \t   SUM(qty * s.price) AS total_revenue_before_discounts,\n",
    "           ROUND(SUM(qty * s.price * discount::numeric/100), 2) AS total_discount\n",
    "    FROM balanced_tree.sales s\n",
    "    LEFT JOIN balanced_tree.product_details p ON s.prod_id = p.product_id\n",
    "    GROUP BY 1, 2\n",
    "    ORDER BY 1;\n",
    "\n",
    "| category_id | category_name | total_qty | total_revenue_before_discounts | total_discount |\n",
    "| ----------- | ------------- | --------- | ------------------------------ | -------------- |\n",
    "| 1           | Womens        | 22734     | 575333                         | 69621.43       |\n",
    "| 2           | Mens          | 22482     | 714120                         | 86607.71       |"
   ]
  },
  {
   "cell_type": "markdown",
   "id": "e9fe5bda",
   "metadata": {},
   "source": [
    "As we can see, there is no much difference between the two categories in quantity, but revenue in `Mens` category is higher (over 55% in comparison with around 45% in `Womens` category). Probably, the price of items in `Mens` category is higher.\n",
    "\n",
    "---"
   ]
  },
  {
   "cell_type": "markdown",
   "id": "785d0793",
   "metadata": {},
   "source": [
    "**3.5. What is the top selling product for each category?**"
   ]
  },
  {
   "cell_type": "markdown",
   "id": "f66cc530",
   "metadata": {},
   "source": [
    "**Query #14**\n",
    "\n",
    "    WITH t AS\n",
    "    (SELECT category_id,\n",
    "    \t    category_name,\n",
    "            product_id,\n",
    "            product_name,\n",
    "            SUM(qty) AS total_qty,\n",
    "            RANK() OVER (PARTITION BY category_id ORDER BY SUM(qty) DESC) AS qty_rank\n",
    "    FROM balanced_tree.sales s\n",
    "    LEFT JOIN balanced_tree.product_details p ON s.prod_id = p.product_id\n",
    "    GROUP BY 1, 2, 3, 4)\n",
    "    \n",
    "    SELECT category_id,\n",
    "    \t   category_name,\n",
    "           product_id,\n",
    "           product_name,\n",
    "           total_qty\n",
    "    FROM t\n",
    "    WHERE qty_rank=1;\n",
    "\n",
    "| category_id | category_name | product_id | product_name                 | total_qty |\n",
    "| ----------- | ------------- | ---------- | ---------------------------- | --------- |\n",
    "| 1           | Womens        | 9ec847     | Grey Fashion Jacket - Womens | 3876      |\n",
    "| 2           | Mens          | 2a2353     | Blue Polo Shirt - Mens       | 3819      |\n",
    "\n",
    "---"
   ]
  },
  {
   "cell_type": "markdown",
   "id": "bcbf15bc",
   "metadata": {},
   "source": [
    "**3.6. What is the percentage split of revenue by product for each segment?**"
   ]
  },
  {
   "cell_type": "markdown",
   "id": "64d86103",
   "metadata": {},
   "source": [
    "**Query #15**\n",
    "\n",
    "    WITH t AS\n",
    "    (SELECT segment_id,\n",
    "    \t    segment_name,\n",
    "            product_id,\n",
    "            product_name,\n",
    "    \t    SUM(qty * s.price) AS total_revenue_before_discounts\n",
    "    FROM balanced_tree.sales s\n",
    "    LEFT JOIN balanced_tree.product_details p ON s.prod_id = p.product_id\n",
    "    GROUP BY 1, 2, 3, 4)\n",
    "    \n",
    "    SELECT *,\n",
    "    \t   ROUND(100*total_revenue_before_discounts / (SUM(total_revenue_before_discounts) OVER (PARTITION BY segment_id)), 2) AS revenue_percentage\n",
    "    FROM t\n",
    "    ORDER BY segment_id, revenue_percentage DESC;\n",
    "\n",
    "| segment_id | segment_name | product_id | product_name                     | total_revenue_before_discounts | revenue_percentage |\n",
    "| ---------- | ------------ | ---------- | -------------------------------- | ------------------------------ | ------------------ |\n",
    "| 3          | Jeans        | e83aa3     | Black Straight Jeans - Womens    | 121152                         | 58.15              |\n",
    "| 3          | Jeans        | c4a632     | Navy Oversized Jeans - Womens    | 50128                          | 24.06              |\n",
    "| 3          | Jeans        | e31d39     | Cream Relaxed Jeans - Womens     | 37070                          | 17.79              |\n",
    "| 4          | Jacket       | 9ec847     | Grey Fashion Jacket - Womens     | 209304                         | 57.03              |\n",
    "| 4          | Jacket       | d5e9a6     | Khaki Suit Jacket - Womens       | 86296                          | 23.51              |\n",
    "| 4          | Jacket       | 72f5d4     | Indigo Rain Jacket - Womens      | 71383                          | 19.45              |\n",
    "| 5          | Shirt        | 2a2353     | Blue Polo Shirt - Mens           | 217683                         | 53.60              |\n",
    "| 5          | Shirt        | 5d267b     | White Tee Shirt - Mens           | 152000                         | 37.43              |\n",
    "| 5          | Shirt        | c8d436     | Teal Button Up Shirt - Mens      | 36460                          | 8.98               |\n",
    "| 6          | Socks        | f084eb     | Navy Solid Socks - Mens          | 136512                         | 44.33              |\n",
    "| 6          | Socks        | 2feb6b     | Pink Fluro Polkadot Socks - Mens | 109330                         | 35.50              |\n",
    "| 6          | Socks        | b9a74d     | White Striped Socks - Mens       | 62135                          | 20.18              |"
   ]
  },
  {
   "cell_type": "markdown",
   "id": "9876e0e5",
   "metadata": {},
   "source": [
    "The largest revenue share in the `Jeans` segment had `Black Straight Jeans - Womens` item - over 58% of revenue for this segment.\n",
    "<br>In the `Jacket` segment - `Grey Fashion Jacket - Womens` item - over 57% of revenue for this segment.\n",
    "<br>In the `Shirt` segment - `Blue Polo Shirt - Mens` item - around 54% of revenue for this segment.\n",
    "<br>In the `Socks` segment - `Navy Solid Socks - Mens` item - over 44% of revenue for this segment.\n",
    "\n",
    "---"
   ]
  },
  {
   "cell_type": "markdown",
   "id": "0c9a1827",
   "metadata": {},
   "source": [
    "**3.7. What is the percentage split of revenue by segment for each category?**"
   ]
  },
  {
   "cell_type": "markdown",
   "id": "b87e83fe",
   "metadata": {},
   "source": [
    "**Query #16**\n",
    "\n",
    "    WITH t AS\n",
    "    (SELECT category_id,\n",
    "    \t    category_name,\n",
    "            segment_id,\n",
    "    \t    segment_name,\n",
    "    \t    SUM(qty * s.price) AS total_revenue_before_discounts\n",
    "    FROM balanced_tree.sales s\n",
    "    LEFT JOIN balanced_tree.product_details p ON s.prod_id = p.product_id\n",
    "    GROUP BY 1, 2, 3, 4)\n",
    "    \n",
    "    SELECT *,\n",
    "    \t   ROUND(100*total_revenue_before_discounts / (SUM(total_revenue_before_discounts) OVER (PARTITION BY category_id)), 2) AS revenue_percentage\n",
    "    FROM t\n",
    "    ORDER BY category_id, revenue_percentage DESC;\n",
    "\n",
    "| category_id | category_name | segment_id | segment_name | total_revenue_before_discounts | revenue_percentage |\n",
    "| ----------- | ------------- | ---------- | ------------ | ------------------------------ | ------------------ |\n",
    "| 1           | Womens        | 4          | Jacket       | 366983                         | 63.79              |\n",
    "| 1           | Womens        | 3          | Jeans        | 208350                         | 36.21              |\n",
    "| 2           | Mens          | 5          | Shirt        | 406143                         | 56.87              |\n",
    "| 2           | Mens          | 6          | Socks        | 307977                         | 43.13              |"
   ]
  },
  {
   "cell_type": "markdown",
   "id": "f61fb972",
   "metadata": {},
   "source": [
    "Therefore, the largest revenue share in the `Womens` category had `Jacket` segment - around 64%.\n",
    "<br>In the `Mens` category the largest revenue share had `Shirt` segment - around 57%.\n",
    "\n",
    "---"
   ]
  },
  {
   "cell_type": "markdown",
   "id": "a31a5a8e",
   "metadata": {},
   "source": [
    "**3.8. What is the percentage split of total revenue by category?**"
   ]
  },
  {
   "cell_type": "markdown",
   "id": "f4155fad",
   "metadata": {},
   "source": [
    "**Query #17**\n",
    "\n",
    "    SELECT category_id,\n",
    "    \t   category_name,\n",
    "    \t   ROUND(100*SUM(qty * s.price)::numeric / (SELECT SUM(qty * price) FROM balanced_tree.sales), 2) AS revenue_percentage\n",
    "    FROM balanced_tree.sales s\n",
    "    LEFT JOIN balanced_tree.product_details p ON s.prod_id = p.product_id\n",
    "    GROUP BY 1, 2;\n",
    "\n",
    "| category_id | category_name | revenue_percentage |\n",
    "| ----------- | ------------- | ------------------ |\n",
    "| 2           | Mens          | 55.38              |\n",
    "| 1           | Womens        | 44.62              |\n",
    "\n",
    "---"
   ]
  },
  {
   "cell_type": "markdown",
   "id": "2bb0d3ea",
   "metadata": {},
   "source": [
    "**3.9. What is the total transaction “penetration” for each product? (hint: penetration = number of transactions where at least 1 quantity of a product was purchased divided by total number of transactions)**"
   ]
  },
  {
   "cell_type": "markdown",
   "id": "45494292",
   "metadata": {},
   "source": [
    "**Query #18**\n",
    "\n",
    "    SELECT prod_id,\n",
    "    \t   product_name,\n",
    "    \t   ROUND(COUNT(txn_id)::numeric / (SELECT COUNT(DISTINCT txn_id) FROM balanced_tree.sales), 3) AS txn_penetration\n",
    "    FROM balanced_tree.sales s\n",
    "    LEFT JOIN balanced_tree.product_details p ON s.prod_id = p.product_id\n",
    "    GROUP BY 1, 2;\n",
    "\n",
    "| prod_id | product_name                     | txn_penetration |\n",
    "| ------- | -------------------------------- | --------------- |\n",
    "| 2a2353  | Blue Polo Shirt - Mens           | 0.507           |\n",
    "| 2feb6b  | Pink Fluro Polkadot Socks - Mens | 0.503           |\n",
    "| 5d267b  | White Tee Shirt - Mens           | 0.507           |\n",
    "| 72f5d4  | Indigo Rain Jacket - Womens      | 0.500           |\n",
    "| 9ec847  | Grey Fashion Jacket - Womens     | 0.510           |\n",
    "| b9a74d  | White Striped Socks - Mens       | 0.497           |\n",
    "| c4a632  | Navy Oversized Jeans - Womens    | 0.510           |\n",
    "| c8d436  | Teal Button Up Shirt - Mens      | 0.497           |\n",
    "| d5e9a6  | Khaki Suit Jacket - Womens       | 0.499           |\n",
    "| e31d39  | Cream Relaxed Jeans - Womens     | 0.497           |\n",
    "| e83aa3  | Black Straight Jeans - Womens    | 0.498           |\n",
    "| f084eb  | Navy Solid Socks - Mens          | 0.512           |\n",
    "\n",
    "---"
   ]
  },
  {
   "cell_type": "markdown",
   "id": "66b43b7f",
   "metadata": {},
   "source": [
    "**3.10. What is the most common combination of at least 1 quantity of any 3 products in a 1 single transaction?**"
   ]
  },
  {
   "attachments": {
    "image.png": {
     "image/png": "[encoded data removed]"
    }
   },
   "cell_type": "markdown",
   "id": "f234f604",
   "metadata": {},
   "source": [
    "In order to answer this question we need to count **the frequency of all possible combinations of any 3 products in a single transaction**.\n",
    "<br>Since the order of the product items doesn't matter, we can use the following formula to identify the number of combinations of `k` elements out of `n` total elements without repetition: \n",
    "![image.png](attachment:image.png)\n",
    "<br>So, in our case we need to find the number of combinations of any 3 products **(k=3)** out of 12 unique products **(n=12)**. Therefore, **there are 220 possible combinations of products**!\n",
    "\n",
    "Let's go over all possible combinations by joining `balanced_tree.sales` table to itself 2 times, meaning that we'll combine data from **3 tables** (as we need a combination of **3 items in a transaction**), and then calculate the frequency:"
   ]
  },
  {
   "cell_type": "markdown",
   "id": "df01a624",
   "metadata": {},
   "source": [
    "**Query #19**\n",
    "\n",
    "    SELECT s.prod_id, t1.prod_id, t2.prod_id, COUNT(*) AS combination_cnt\t   \n",
    "    FROM balanced_tree.sales s\n",
    "    JOIN balanced_tree.sales t1 ON t1.txn_id = s.txn_id \n",
    "    AND s.prod_id < t1.prod_id\n",
    "    JOIN balanced_tree.sales t2 ON t2.txn_id = s.txn_id\n",
    "    AND t1.prod_id < t2.prod_id\n",
    "    GROUP BY 1, 2, 3\n",
    "    ORDER BY 4 DESC\n",
    "    LIMIT 1;\n",
    "\n",
    "| prod_id | prod_id | prod_id | combination_cnt |\n",
    "| ------- | ------- | ------- | --------------- |\n",
    "| 5d267b  | 9ec847  | c8d436  | 352             |"
   ]
  },
  {
   "cell_type": "markdown",
   "id": "f1038b53",
   "metadata": {},
   "source": [
    "As we can see from the table above, the most common combination of any 3 products in 1 transaction is 5d267b, 9ec847 and c8d436. This combination occured **352 times**."
   ]
  },
  {
   "cell_type": "markdown",
   "id": "f1ca185f",
   "metadata": {},
   "source": [
    "You can find the entire output for all of 220 possible combinations [here](https://github.com/etsar/SQL-practice/blob/main/SQL_case_study_7%20-%20Balanced%20Tree%20Clothing%20Co/SQL_case_study_7_possible_combinations.ipynb).\n",
    "\n",
    "---"
   ]
  },
  {
   "cell_type": "markdown",
   "id": "37fca3ca",
   "metadata": {},
   "source": [
    "**4. Reporting Challenge**"
   ]
  },
  {
   "cell_type": "markdown",
   "id": "6d80852f",
   "metadata": {},
   "source": [
    "Write a single SQL script that combines all of the previous questions into a scheduled report that the Balanced Tree team can run at the beginning of each month to calculate the previous month’s values.\n",
    "\n",
    "Imagine that the Chief Financial Officer (which is also Danny) has asked for all of these questions at the end of every month.\n",
    "\n",
    "He first wants you to generate the data for January only - but then he also wants you to demonstrate that you can easily run the same analysis for February without many changes (if at all).\n",
    "\n",
    "Feel free to split up your final outputs into as many tables as you need - but be sure to explicitly reference which table outputs relate to which question for full marks :)"
   ]
  },
  {
   "cell_type": "markdown",
   "id": "fac18690",
   "metadata": {},
   "source": [
    "You can find a single SQL script that combines all of the questions into a scheduled report that the Balanced Tree team can run at the beginning of each month to calculate the previous month’s values [here](https://github.com/etsar/SQL-practice/blob/main/SQL_case_study_7%20-%20Balanced%20Tree%20Clothing%20Co/SQL_case_study_7_monthly_report_script.ipynb).\n",
    "\n",
    "---"
   ]
  },
  {
   "cell_type": "markdown",
   "id": "4afad1a7",
   "metadata": {},
   "source": [
    "**Bonus Challenge**"
   ]
  },
  {
   "cell_type": "markdown",
   "id": "b6980adc",
   "metadata": {},
   "source": [
    "Use a single SQL query to transform the `product_hierarchy` and `product_prices` datasets to the `product_details` table.\n",
    "Hint: you may want to consider using a recursive CTE to solve this problem!"
   ]
  },
  {
   "cell_type": "markdown",
   "id": "40ea7c53",
   "metadata": {},
   "source": [
    "**Query #20**\n",
    "\n",
    "    WITH t AS\n",
    "    (SELECT h.id AS style_id, \n",
    "    \t    h.level_text AS style_name, \n",
    "            t1.id AS segment_id, \n",
    "            t1.level_text AS segment_name,\n",
    "            t1.parent_id AS category_id,\n",
    "            t2.level_text AS category_name\n",
    "    FROM balanced_tree.product_hierarchy h\n",
    "    LEFT JOIN balanced_tree.product_hierarchy t1 ON h.parent_id=t1.id\n",
    "    LEFT JOIN balanced_tree.product_hierarchy t2 ON t1.parent_id=t2.id\n",
    "    WHERE h.id BETWEEN 7 AND 18)\n",
    "    \n",
    "    SELECT p.product_id,\n",
    "    \t   p.price,\n",
    "           CONCAT(t.style_name, ' ', t.segment_name, ' - ', t.category_name) AS product_name,\n",
    "           t.category_id,\n",
    "           t.segment_id,\n",
    "           t.style_id,\n",
    "           t.category_name,\n",
    "           t.segment_name,\n",
    "           t.style_name\n",
    "    FROM balanced_tree.product_prices p\n",
    "    LEFT JOIN t ON p.id = t.style_id;\n",
    "\n",
    "| product_id | price | product_name                     | category_id | segment_id | style_id | category_name | segment_name | style_name          |\n",
    "| ---------- | ----- | -------------------------------- | ----------- | ---------- | -------- | ------------- | ------------ | ------------------- |\n",
    "| c4a632     | 13    | Navy Oversized Jeans - Womens    | 1           | 3          | 7        | Womens        | Jeans        | Navy Oversized      |\n",
    "| e83aa3     | 32    | Black Straight Jeans - Womens    | 1           | 3          | 8        | Womens        | Jeans        | Black Straight      |\n",
    "| e31d39     | 10    | Cream Relaxed Jeans - Womens     | 1           | 3          | 9        | Womens        | Jeans        | Cream Relaxed       |\n",
    "| d5e9a6     | 23    | Khaki Suit Jacket - Womens       | 1           | 4          | 10       | Womens        | Jacket       | Khaki Suit          |\n",
    "| 72f5d4     | 19    | Indigo Rain Jacket - Womens      | 1           | 4          | 11       | Womens        | Jacket       | Indigo Rain         |\n",
    "| 9ec847     | 54    | Grey Fashion Jacket - Womens     | 1           | 4          | 12       | Womens        | Jacket       | Grey Fashion        |\n",
    "| 5d267b     | 40    | White Tee Shirt - Mens           | 2           | 5          | 13       | Mens          | Shirt        | White Tee           |\n",
    "| c8d436     | 10    | Teal Button Up Shirt - Mens      | 2           | 5          | 14       | Mens          | Shirt        | Teal Button Up      |\n",
    "| 2a2353     | 57    | Blue Polo Shirt - Mens           | 2           | 5          | 15       | Mens          | Shirt        | Blue Polo           |\n",
    "| f084eb     | 36    | Navy Solid Socks - Mens          | 2           | 6          | 16       | Mens          | Socks        | Navy Solid          |\n",
    "| b9a74d     | 17    | White Striped Socks - Mens       | 2           | 6          | 17       | Mens          | Socks        | White Striped       |\n",
    "| 2feb6b     | 29    | Pink Fluro Polkadot Socks - Mens | 2           | 6          | 18       | Mens          | Socks        | Pink Fluro Polkadot |\n",
    "\n",
    "---"
   ]
  }
 ],
 "metadata": {
  "kernelspec": {
   "display_name": "Python 3 (ipykernel)",
   "language": "python",
   "name": "python3"
  },
  "language_info": {
   "codemirror_mode": {
    "name": "ipython",
    "version": 3
   },
   "file_extension": ".py",
   "mimetype": "text/x-python",
   "name": "python",
   "nbconvert_exporter": "python",
   "pygments_lexer": "ipython3",
   "version": "3.9.7"
  }
 },
 "nbformat": 4,
 "nbformat_minor": 5
}
