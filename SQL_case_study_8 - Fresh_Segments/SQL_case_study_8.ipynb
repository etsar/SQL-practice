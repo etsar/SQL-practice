{
 "cells": [
  {
   "cell_type": "markdown",
   "id": "1dd637dc",
   "metadata": {},
   "source": [
    "*Source of the case study:* https://8weeksqlchallenge.com/case-study-8/\n",
    "\n",
    "---"
   ]
  },
  {
   "cell_type": "markdown",
   "id": "b68a27c6",
   "metadata": {},
   "source": [
    "## Case Study #8 - Fresh Segments"
   ]
  },
  {
   "cell_type": "markdown",
   "id": "076c490b",
   "metadata": {},
   "source": [
    "**Introduction**\n",
    "<br>Danny created Fresh Segments, a digital marketing agency that helps other businesses analyze trends in online ad click behaviour for their unique customer base.\n",
    "\n",
    "Clients share their customer lists with the Fresh Segments team, who then aggregate interest metrics and generate a single dataset worth of metrics for further analysis.\n",
    "\n",
    "In particular - the composition and rankings for different interests are provided for each client showing the proportion of their customer list, who interacted with online assets related to each interest for each month.\n",
    "\n",
    "Danny has asked for your assistance to analyze aggregated metrics for an example client and provide some high level insights about the customer list and their interests."
   ]
  },
  {
   "cell_type": "markdown",
   "id": "877eb362",
   "metadata": {},
   "source": [
    "**Available Data**\n",
    "<br>For this case study there is a total of 2 datasets which you will need to use to solve the questions."
   ]
  },
  {
   "cell_type": "markdown",
   "id": "3adf0a29",
   "metadata": {},
   "source": [
    "**Interest Metrics**\n",
    "<br>This table contains information about aggregated interest metrics for a specific major client of Fresh Segments which makes up a large proportion of their customer base.\n",
    "\n",
    "Each record in this table represents the performance of a specific `interest_id` based on the client’s customer base interest measured through clicks and interactions with specific targeted advertising content."
   ]
  },
  {
   "cell_type": "markdown",
   "id": "4d729e5b",
   "metadata": {},
   "source": [
    "For example - let’s interpret the first row of the `interest_metrics` table together:\n",
    "\n",
    "|_month\t|_year\t|month_year\t|interest_id\t|composition\t|index_value\t|ranking\t|percentile_ranking|\n",
    "| ----- | ----- | ----- | ----- | ----- | ----- | ----- | ----- |\n",
    "|7\t|2018\t|07-2018\t|32486\t|11.89\t|6.19\t|1\t|99.86|"
   ]
  },
  {
   "cell_type": "markdown",
   "id": "82de002f",
   "metadata": {},
   "source": [
    "In July 2018, the `composition` metric is 11.89, meaning that 11.89% of the client’s customer list interacted with the interest `interest_id` = 32486 - we can link `interest_id` to a separate mapping table to find the segment name called “Vacation Rental Accommodation Researchers”\n",
    "\n",
    "The `index_value` is 6.19, means that the `composition` value is 6.19x the average composition value for all Fresh Segments clients’ customer for this particular interest in the month of July 2018.\n",
    "\n",
    "The `ranking` and `percentage_ranking` relates to the order of `index_value` records in each month year."
   ]
  },
  {
   "cell_type": "markdown",
   "id": "07dff6b4",
   "metadata": {},
   "source": [
    "**Interest Map**\n",
    "<br>This mapping table links the `interest_id` with their relevant interest information. You will need to join this table onto the previous `interest_details` table to obtain the `interest_name` as well as any details about the summary information."
   ]
  },
  {
   "cell_type": "markdown",
   "id": "aaa16281",
   "metadata": {},
   "source": [
    "**Case Study Questions**"
   ]
  },
  {
   "cell_type": "markdown",
   "id": "014cc269",
   "metadata": {},
   "source": [
    "The following questions can be considered key business questions that are required to be answered for the Fresh Segments team.\n",
    "\n",
    "Most questions can be answered using a single query, however, some questions are more open ended and require additional thought and not just a coded solution!"
   ]
  },
  {
   "cell_type": "markdown",
   "id": "0575d303",
   "metadata": {},
   "source": [
    "**1. Data Exploration and Cleansing**\n",
    "1. Update the `fresh_segments.interest_metrics` table by modifying the `month_year` column to be a date data type with the start of the month\n",
    "1. What is count of records in the `fresh_segments.interest_metrics` for each `month_year` value sorted in chronological order (earliest to latest) with the null values appearing first?\n",
    "1. What do you think we should do with these null values in the `fresh_segments.interest_metrics`\n",
    "1. How many `interest_id` values exist in the `fresh_segments.interest_metrics` table but not in the `fresh_segments.interest_map` table? What about the other way around?\n",
    "1. Summarise the `id` values in the `fresh_segments.interest_map` by its total record count in this table\n",
    "1. What sort of table join should we perform for our analysis and why? Check your logic by checking the rows where `interest_id` = 21246 in your joined output and include all columns from `fresh_segments.interest_metrics` and all columns from `fresh_segments.interest_map` except from the `id` column.\n",
    "1. Are there any records in your joined table where the `month_year` value is before the `created_at` value from the `fresh_segments.interest_map` table? Do you think these values are valid and why?"
   ]
  },
  {
   "cell_type": "markdown",
   "id": "4397d933",
   "metadata": {},
   "source": [
    "**2. Interest Analysis**\n",
    "1. Which interests have been present in all `month_year` dates in our dataset?\n",
    "1. Using this same `total_months` measure - calculate the cumulative percentage of all records starting at 14 months - which `total_months` value passes the 90% cumulative percentage value?\n",
    "1. If we were to remove all `interest_id` values which are lower than the `total_months` value we found in the previous question - how many total data points would we be removing?\n",
    "1. Does this decision make sense to remove these data points from a business perspective? Use an example where there are all 14 months present to a removed interest example for your arguments - think about what it means to have less months present from a segment perspective.\n",
    "1. After removing these interests - how many unique interests are there for each month?"
   ]
  },
  {
   "cell_type": "markdown",
   "id": "b3aca70f",
   "metadata": {},
   "source": [
    "**3. Segment Analysis**\n",
    "1. Using our filtered dataset by removing the interests with less than 6 months worth of data, which are the top 10 and bottom 10 interests which have the largest composition values in any `month_year`? Only use the maximum composition value for each interest but you must keep the corresponding `month_year`\n",
    "1. Which 5 interests had the lowest average `ranking` value?\n",
    "1. Which 5 interests had the largest standard deviation in their `percentile_ranking` value?\n",
    "1. For the 5 interests found in the previous question - what was minimum and maximum `percentile_ranking` values for each interest and its corresponding `year_month` value? Can you describe what is happening for these 5 interests?\n",
    "1. How would you describe our customers in this segment based off their `composition` and `ranking` values? What sort of products or services should we show to these customers and what should we avoid?"
   ]
  },
  {
   "cell_type": "markdown",
   "id": "714f2f86",
   "metadata": {},
   "source": [
    "**4. Index Analysis**\n",
    "<br>The `index_value` is a measure which can be used to reverse calculate the average composition for Fresh Segments’ clients.\n",
    "\n",
    "Average composition can be calculated by dividing the `composition` column by the `index_value` column rounded to 2 decimal places.\n",
    "\n",
    "1. What is the top 10 interests by the average composition for each month?\n",
    "1. For all of these top 10 interests - which interest appears the most often?\n",
    "1. What is the average of the average composition for the top 10 interests for each month?\n",
    "1. What is the 3 month rolling average of the max average composition value from September 2018 to August 2019 and include the previous top ranking interests in the same output shown below.\n",
    "1. Provide a possible reason why the max average composition might change from month to month? Could it signal something is not quite right with the overall business model for Fresh Segments?\n",
    "\n",
    "Required output for question 4:\n",
    "\n",
    "|month_year\t|interest_name\t|max_index_composition\t|3_month_moving_avg\t|1_month_ago\t|2_months_ago|\n",
    "| ----- | ----- | ----- | ----- | ----- | ----- |\n",
    "|2018-09-01\t|Work Comes First Travelers\t|8.26\t|7.61\t|Las Vegas Trip Planners: 7.21\t|Las Vegas Trip Planners: 7.36|\n",
    "|2018-10-01\t|Work Comes First Travelers\t|9.14\t|8.20\t|Work Comes First Travelers: 8.26\t|Las Vegas Trip Planners: 7.21|\n",
    "|2018-11-01\t|Work Comes First Travelers\t|8.28\t|8.56\t|Work Comes First Travelers: 9.14\t|Work Comes First Travelers: 8.26|\n",
    "|2018-12-01\t|Work Comes First Travelers\t|8.31\t|8.58\t|Work Comes First Travelers: 8.28\t|Work Comes First Travelers: 9.14|\n",
    "|2019-01-01\t|Work Comes First Travelers\t|7.66\t|8.08\t|Work Comes First Travelers: 8.31\t|Work Comes First Travelers: 8.28|\n",
    "|2019-02-01\t|Work Comes First Travelers\t|7.66\t|7.88\t|Work Comes First Travelers: 7.66\t|Work Comes First Travelers: 8.31|\n",
    "|2019-03-01\t|Alabama Trip Planners\t|6.54\t|7.29\t|Work Comes First Travelers: 7.66\t|Work Comes First Travelers: 7.66|\n",
    "|2019-04-01\t|Solar Energy Researchers\t|6.28\t|6.83\t|Alabama Trip Planners: 6.54\t|Work Comes First Travelers: 7.66|\n",
    "|2019-05-01\t|Readers of Honduran Content\t|4.41\t|5.74\t|Solar Energy Researchers: 6.28\t|Alabama Trip Planners: 6.54|\n",
    "|2019-06-01\t|Las Vegas Trip Planners\t|2.77\t|4.49\t|Readers of Honduran Content: 4.41\t|Solar Energy Researchers: 6.28|\n",
    "|2019-07-01\t|Las Vegas Trip Planners\t|2.82\t|3.33\t|Las Vegas Trip Planners: 2.77\t|Readers of Honduran Content: 4.41|\n",
    "|2019-08-01\t|Cosmetics and Beauty Shoppers\t|2.73\t|2.77\t|Las Vegas Trip Planners: 2.82\t|Las Vegas Trip Planners: 2.77|\n",
    "\n",
    "---"
   ]
  },
  {
   "cell_type": "markdown",
   "id": "fb8dd77f",
   "metadata": {},
   "source": [
    "**1. Data Exploration and Cleansing**"
   ]
  },
  {
   "cell_type": "markdown",
   "id": "fab8de92",
   "metadata": {},
   "source": [
    "**1.1. Update the `fresh_segments.interest_metrics` table by modifying the `month_year` column to be a date data type with the start of the month**"
   ]
  },
  {
   "cell_type": "markdown",
   "id": "631934fe",
   "metadata": {},
   "source": [
    "**Query #1**\n",
    "\n",
    "    ALTER TABLE fresh_segments.interest_metrics\n",
    "    ALTER COLUMN month_year TYPE DATE \n",
    "    USING to_date(month_year, 'MM-YYYY');\n",
    "\n",
    "There are no results to be displayed.\n",
    "\n",
    "---"
   ]
  },
  {
   "cell_type": "markdown",
   "id": "389b53f9",
   "metadata": {},
   "source": [
    "**1.2. What is count of records in the `fresh_segments.interest_metrics` for each `month_year` value sorted in chronological order (earliest to latest) with the null values appearing first?**"
   ]
  },
  {
   "cell_type": "markdown",
   "id": "b35b44c0",
   "metadata": {},
   "source": [
    "**Query #2**\n",
    "\n",
    "    SELECT month_year,\n",
    "    \t   COUNT(*)\n",
    "    FROM fresh_segments.interest_metrics\n",
    "    GROUP BY 1\n",
    "    ORDER BY 1 NULLS FIRST;\n",
    "\n",
    "| month_year               | count |\n",
    "| ------------------------ | ----- |\n",
    "|                          | 1194  |\n",
    "| 2018-07-01T00:00:00.000Z | 729   |\n",
    "| 2018-08-01T00:00:00.000Z | 767   |\n",
    "| 2018-09-01T00:00:00.000Z | 780   |\n",
    "| 2018-10-01T00:00:00.000Z | 857   |\n",
    "| 2018-11-01T00:00:00.000Z | 928   |\n",
    "| 2018-12-01T00:00:00.000Z | 995   |\n",
    "| 2019-01-01T00:00:00.000Z | 973   |\n",
    "| 2019-02-01T00:00:00.000Z | 1121  |\n",
    "| 2019-03-01T00:00:00.000Z | 1136  |\n",
    "| 2019-04-01T00:00:00.000Z | 1099  |\n",
    "| 2019-05-01T00:00:00.000Z | 857   |\n",
    "| 2019-06-01T00:00:00.000Z | 824   |\n",
    "| 2019-07-01T00:00:00.000Z | 864   |\n",
    "| 2019-08-01T00:00:00.000Z | 1149  |\n",
    "\n",
    "---"
   ]
  },
  {
   "cell_type": "markdown",
   "id": "94b6e06e",
   "metadata": {},
   "source": [
    "**1.3. What do you think we should do with these null values in the `fresh_segments.interest_metrics`**"
   ]
  },
  {
   "cell_type": "markdown",
   "id": "a5c651ee",
   "metadata": {},
   "source": [
    "Since there are not so many null values, we can remove rows with them:"
   ]
  },
  {
   "cell_type": "markdown",
   "id": "05c65a11",
   "metadata": {},
   "source": [
    "\n",
    "**Query #3**\n",
    "\n",
    "    CREATE TEMP TABLE interest_metrics_clean AS\n",
    "    (SELECT *\n",
    "     FROM fresh_segments.interest_metrics\n",
    "     WHERE month_year IS NOT NULL);\n",
    "\n",
    "There are no results to be displayed.\n",
    "\n",
    "---"
   ]
  },
  {
   "cell_type": "markdown",
   "id": "8edb4165",
   "metadata": {},
   "source": [
    "**1.4. How many `interest_id` values exist in the `fresh_segments.interest_metrics` table but not in the `fresh_segments.interest_map` table? What about the other way around?**"
   ]
  },
  {
   "cell_type": "markdown",
   "id": "66f65c82",
   "metadata": {},
   "source": [
    "Let's change the datatype of the `interest_id` column to `integer`:"
   ]
  },
  {
   "cell_type": "markdown",
   "id": "e4a68e6b",
   "metadata": {},
   "source": [
    "**Query #4**\n",
    "\n",
    "    ALTER TABLE interest_metrics_clean\n",
    "    ALTER COLUMN interest_id TYPE INT\n",
    "    USING interest_id::INTEGER;\n",
    "\n",
    "There are no results to be displayed."
   ]
  },
  {
   "cell_type": "markdown",
   "id": "beefd0b7",
   "metadata": {},
   "source": [
    "And now we can count the number of `interest_id` values, which exist in the `interest_metrics_clean` table but not in the `fresh_segments.interest_map` table:"
   ]
  },
  {
   "cell_type": "markdown",
   "id": "82d5f3f2",
   "metadata": {},
   "source": [
    "**Query #5**\n",
    "\n",
    "    SELECT COUNT(interest_id) AS id_cnt_not_in_map\n",
    "    FROM interest_metrics_clean\n",
    "    WHERE interest_id NOT IN (SELECT id FROM fresh_segments.interest_map);\n",
    "\n",
    "| id_cnt_not_in_map |\n",
    "| ----------------- |\n",
    "| 0                 |"
   ]
  },
  {
   "cell_type": "markdown",
   "id": "80f09df2",
   "metadata": {},
   "source": [
    "Therefore, all the ids from the `interest_metrics_clean` table presented in the `fresh_segments.interest_map` table.\n",
    "\n",
    "Let's check how many `id` values, which exist in the `fresh_segments.interest_map` but not in the `interest_metrics_clean` table:"
   ]
  },
  {
   "cell_type": "markdown",
   "id": "1d2a98b8",
   "metadata": {},
   "source": [
    "**Query #6**\n",
    "\n",
    "    SELECT COUNT(id) AS id_cnt_not_in_metrics\n",
    "    FROM fresh_segments.interest_map\n",
    "    WHERE id NOT IN (SELECT interest_id FROM interest_metrics_clean);\n",
    "\n",
    "| id_cnt_not_in_metrics |\n",
    "| --------------------- |\n",
    "| 7                     |"
   ]
  },
  {
   "cell_type": "markdown",
   "id": "12768a40",
   "metadata": {},
   "source": [
    "So there are 7 `id`s that are in the `fresh_segments.interest_map` but not in the `interest_metrics_clean` table.\n",
    "\n",
    "---"
   ]
  },
  {
   "cell_type": "markdown",
   "id": "df1ad0e6",
   "metadata": {},
   "source": [
    "**1.5. Summarise the `id` values in the `fresh_segments.interest_map` by its total record count in this table**"
   ]
  },
  {
   "cell_type": "markdown",
   "id": "6e7ad812",
   "metadata": {},
   "source": [
    "**Query #7**\n",
    "\n",
    "    SELECT COUNT(DISTINCT id) AS id_cnt\n",
    "    FROM fresh_segments.interest_map;\n",
    "\n",
    "| id_cnt |\n",
    "| ------ |\n",
    "| 1209   |\n",
    "\n",
    "---"
   ]
  },
  {
   "cell_type": "markdown",
   "id": "ca82bec1",
   "metadata": {},
   "source": [
    "**1.6. What sort of table join should we perform for our analysis and why? Check your logic by checking the rows where `interest_id` = 21246 in your joined output and include all columns from `fresh_segments.interest_metrics` and all columns from `fresh_segments.interest_map` except from the `id` column.**"
   ]
  },
  {
   "cell_type": "markdown",
   "id": "84fa2252",
   "metadata": {},
   "source": [
    "We can use INNER JOIN in order to have necessary data in all rows and columns:"
   ]
  },
  {
   "cell_type": "markdown",
   "id": "222d9bb6",
   "metadata": {},
   "source": [
    "**Query #8**\n",
    "\n",
    "    CREATE TEMP TABLE interest_metrics_map_joined AS\n",
    "    (SELECT c.*, \n",
    "    \t    m.interest_name, \n",
    "            m.interest_summary, \n",
    "            m.created_at, \n",
    "            m.last_modified\n",
    "     FROM fresh_segments.interest_map m\n",
    "     INNER JOIN interest_metrics_clean c ON m.id = c.interest_id);\n",
    "\n",
    "There are no results to be displayed.\n",
    "\n",
    "---"
   ]
  },
  {
   "cell_type": "markdown",
   "id": "9fc95e92",
   "metadata": {},
   "source": [
    "**1.7. Are there any records in your joined table where the `month_year` value is before the `created_at` value from the `fresh_segments.interest_map` table? Do you think these values are valid and why?**"
   ]
  },
  {
   "cell_type": "markdown",
   "id": "3256b722",
   "metadata": {},
   "source": [
    "**Query #9**\n",
    "\n",
    "    SELECT COUNT(*) AS date_before_created_at_cnt\n",
    "    FROM interest_metrics_map_joined\n",
    "    WHERE month_year < created_at;\n",
    "\n",
    "| date_before_created_at_cnt |\n",
    "| -------------------------- |\n",
    "| 188                        |"
   ]
  },
  {
   "cell_type": "markdown",
   "id": "2ff7e2ce",
   "metadata": {},
   "source": [
    "There are 188 records, where the `month_year` value is before the `created_at` value.\n",
    "\n",
    "Since the `month_year` value represents itself the begining of each month, we should ensure that `month_year` lies in the same month of `created_at`:"
   ]
  },
  {
   "cell_type": "markdown",
   "id": "bb00aa2c",
   "metadata": {},
   "source": [
    "**Query #10**\n",
    "\n",
    "    SELECT COUNT(*) AS date_before_created_at_cnt\n",
    "    FROM interest_metrics_map_joined\n",
    "    WHERE month_year < created_at\n",
    "    AND _month::NUMERIC < EXTRACT(MONTH FROM created_at);\n",
    "\n",
    "| date_before_created_at_cnt |\n",
    "| -------------------------- |\n",
    "| 0                          |\n",
    "\n",
    "---"
   ]
  },
  {
   "cell_type": "markdown",
   "id": "e5815068",
   "metadata": {},
   "source": [
    "**2. Interest Analysis**"
   ]
  },
  {
   "cell_type": "markdown",
   "id": "58f45b50",
   "metadata": {},
   "source": [
    "**2.1 Which interests have been present in all `month_year` dates in our dataset?**"
   ]
  },
  {
   "cell_type": "markdown",
   "id": "b53d4f5a",
   "metadata": {},
   "source": [
    "**Query #11**\n",
    "\n",
    "    SELECT COUNT(interest_id) AS interest_date_cnt\n",
    "    FROM (SELECT interest_id,\n",
    "    \t   \t\t COUNT(DISTINCT month_year) AS dates_cnt\n",
    "    \t  FROM interest_metrics_map_joined\n",
    "    \t  GROUP BY 1\n",
    "    \t  HAVING COUNT(DISTINCT month_year) = (SELECT COUNT(DISTINCT month_year) FROM interest_metrics_map_joined)) t;\n",
    "\n",
    "| interest_date_cnt |\n",
    "| ----------------- |\n",
    "| 480               |\n",
    "\n",
    "---"
   ]
  },
  {
   "cell_type": "markdown",
   "id": "3c7304f0",
   "metadata": {},
   "source": [
    "**2.2. Using this same `total_months` measure - calculate the cumulative percentage of all records starting at 14 months - which `total_months` value passes the 90% cumulative percentage value?**"
   ]
  },
  {
   "cell_type": "markdown",
   "id": "5ec0e3ea",
   "metadata": {},
   "source": [
    "**Query #12**\n",
    "\n",
    "    WITH temp AS\n",
    "    (SELECT total_months,\n",
    "    \t    COUNT(interest_id) AS interest_id_cnt\n",
    "     FROM (SELECT interest_id,\n",
    "                  COUNT(DISTINCT month_year) AS total_months\n",
    "    \t   FROM interest_metrics_map_joined\n",
    "    \t   GROUP BY 1) t\n",
    "     GROUP BY 1)\n",
    "     \n",
    "    SELECT total_months,\n",
    "    \t   ROUND(100*SUM(interest_id_cnt) OVER (ORDER BY total_months DESC) / SUM(interest_id_cnt) OVER(), 2) AS cum_percentage\n",
    "    FROM temp;\n",
    "\n",
    "| total_months | cum_percentage |\n",
    "| ------------ | -------------- |\n",
    "| 14           | 39.93          |\n",
    "| 13           | 46.76          |\n",
    "| 12           | 52.16          |\n",
    "| 11           | 59.98          |\n",
    "| 10           | 67.14          |\n",
    "| 9            | 75.04          |\n",
    "| 8            | 80.62          |\n",
    "| 7            | 88.10          |\n",
    "| 6            | 90.85          |\n",
    "| 5            | 94.01          |\n",
    "| 4            | 96.67          |\n",
    "| 3            | 97.92          |\n",
    "| 2            | 98.92          |\n",
    "| 1            | 100.00         |"
   ]
  },
  {
   "cell_type": "markdown",
   "id": "41e341b3",
   "metadata": {},
   "source": [
    "Starting from the 14th month down, only the sixth month passes the 90% cumulative percentage value.\n",
    "\n",
    "---"
   ]
  },
  {
   "cell_type": "markdown",
   "id": "e3e9c311",
   "metadata": {},
   "source": [
    "**2.3. If we were to remove all `interest_id` values which are lower than the `total_months` value we found in the previous question - how many total data points would we be removing?**"
   ]
  },
  {
   "cell_type": "markdown",
   "id": "e336ea52",
   "metadata": {},
   "source": [
    "**Query #13**\n",
    "\n",
    "    SELECT COUNT(*) AS rows_cnt_to_remove\n",
    "    FROM interest_metrics_map_joined\n",
    "    WHERE interest_id IN (SELECT interest_id\n",
    "    \t\t\t\t\t  FROM (SELECT interest_id,\n",
    "                                       COUNT(DISTINCT month_year) AS dates_cnt\n",
    "                                FROM interest_metrics_map_joined\n",
    "                                GROUP BY 1\n",
    "                                HAVING COUNT(DISTINCT month_year) < 6) t);\n",
    "\n",
    "| rows_cnt_to_remove |\n",
    "| ------------------ |\n",
    "| 400                |\n",
    "\n",
    "---"
   ]
  },
  {
   "cell_type": "markdown",
   "id": "09891907",
   "metadata": {},
   "source": [
    "**2.4. Does this decision make sense to remove these data points from a business perspective? Use an example where there are all 14 months present to a removed interest example for your arguments - think about what it means to have less months present from a segment perspective.**"
   ]
  },
  {
   "cell_type": "markdown",
   "id": "5d7d5709",
   "metadata": {},
   "source": [
    "Yes, it makes sense, because those `id`s with less than 6 months could be new ones and might change our perspective just because they are new. So it is better to analyze only `id`s that presented in over than 6 months."
   ]
  },
  {
   "cell_type": "markdown",
   "id": "d043a6aa",
   "metadata": {},
   "source": [
    "**Query #14**\n",
    "\n",
    "    CREATE TEMP TABLE interest_removed AS\n",
    "    (SELECT *\n",
    "     FROM interest_metrics_map_joined\n",
    "     WHERE interest_id NOT IN (SELECT interest_id\n",
    "    \t\t\t\t\t   FROM (SELECT interest_id,\n",
    "    \t\t\t\t\t  \t   \t\t    COUNT(DISTINCT month_year) AS dates_cnt\n",
    "    \t\t\t\t\t  \t     FROM interest_metrics_map_joined\n",
    "    \t\t\t\t\t  \t     GROUP BY 1\n",
    "    \t\t\t\t\t  \t     HAVING COUNT(DISTINCT month_year) < 6) t));\n",
    "\n",
    "There are no results to be displayed.\n",
    "\n",
    "---"
   ]
  },
  {
   "cell_type": "markdown",
   "id": "dacd8b5e",
   "metadata": {},
   "source": [
    "**2.5. After removing these interests - how many unique interests are there for each month?**"
   ]
  },
  {
   "cell_type": "markdown",
   "id": "97517db4",
   "metadata": {},
   "source": [
    "**Query #15**\n",
    "\n",
    "    SELECT month_year,\n",
    "    \t   COUNT (DISTINCT interest_id) AS interest_cnt\n",
    "    FROM interest_removed\n",
    "    GROUP BY 1;\n",
    "\n",
    "| month_year               | interest_cnt |\n",
    "| ------------------------ | ------------ |\n",
    "| 2018-07-01T00:00:00.000Z | 709          |\n",
    "| 2018-08-01T00:00:00.000Z | 752          |\n",
    "| 2018-09-01T00:00:00.000Z | 774          |\n",
    "| 2018-10-01T00:00:00.000Z | 853          |\n",
    "| 2018-11-01T00:00:00.000Z | 925          |\n",
    "| 2018-12-01T00:00:00.000Z | 986          |\n",
    "| 2019-01-01T00:00:00.000Z | 966          |\n",
    "| 2019-02-01T00:00:00.000Z | 1072         |\n",
    "| 2019-03-01T00:00:00.000Z | 1078         |\n",
    "| 2019-04-01T00:00:00.000Z | 1035         |\n",
    "| 2019-05-01T00:00:00.000Z | 827          |\n",
    "| 2019-06-01T00:00:00.000Z | 804          |\n",
    "| 2019-07-01T00:00:00.000Z | 836          |\n",
    "| 2019-08-01T00:00:00.000Z | 1062         |\n",
    "\n",
    "---"
   ]
  },
  {
   "cell_type": "markdown",
   "id": "57988fcd",
   "metadata": {},
   "source": [
    "**3. Segment Analysis**"
   ]
  },
  {
   "cell_type": "markdown",
   "id": "7eb12b4f",
   "metadata": {},
   "source": [
    "**3.1. Using our filtered dataset by removing the interests with less than 6 months worth of data, which are the top 10 and bottom 10 interests which have the largest composition values in any `month_year`? Only use the maximum composition value for each interest but you must keep the corresponding `month_year`**"
   ]
  },
  {
   "cell_type": "markdown",
   "id": "1d5433ed",
   "metadata": {},
   "source": [
    "**Query #16**\n",
    "\n",
    "    SELECT month_year,\n",
    "    \t   interest_id,\n",
    "    \t   MAX(composition) AS top10interests_composition\n",
    "    FROM interest_removed\n",
    "    GROUP BY 1,2\n",
    "    ORDER BY 3 DESC\n",
    "    LIMIT 10;\n",
    "\n",
    "| month_year               | interest_id | top10interests_composition |\n",
    "| ------------------------ | ----------- | -------------------------- |\n",
    "| 2018-12-01T00:00:00.000Z | 21057       | 21.2                       |\n",
    "| 2018-10-01T00:00:00.000Z | 21057       | 20.28                      |\n",
    "| 2018-11-01T00:00:00.000Z | 21057       | 19.45                      |\n",
    "| 2019-01-01T00:00:00.000Z | 21057       | 18.99                      |\n",
    "| 2018-07-01T00:00:00.000Z | 6284        | 18.82                      |\n",
    "| 2019-02-01T00:00:00.000Z | 21057       | 18.39                      |\n",
    "| 2018-09-01T00:00:00.000Z | 21057       | 18.18                      |\n",
    "| 2018-07-01T00:00:00.000Z | 39          | 17.44                      |\n",
    "| 2018-07-01T00:00:00.000Z | 77          | 17.19                      |\n",
    "| 2018-10-01T00:00:00.000Z | 12133       | 15.15                      |"
   ]
  },
  {
   "cell_type": "markdown",
   "id": "5a1a4b56",
   "metadata": {},
   "source": [
    "**Query #17**\n",
    "\n",
    "    SELECT month_year,\n",
    "    \t   interest_id,\n",
    "    \t   MAX(composition) AS bottom10interests_composition\n",
    "    FROM interest_removed\n",
    "    GROUP BY 1,2\n",
    "    ORDER BY 3\n",
    "    LIMIT 10;\n",
    "\n",
    "| month_year               | interest_id | bottom10interests_composition |\n",
    "| ------------------------ | ----------- | ----------------------------- |\n",
    "| 2019-05-01T00:00:00.000Z | 45524       | 1.51                          |\n",
    "| 2019-05-01T00:00:00.000Z | 4918        | 1.52                          |\n",
    "| 2019-06-01T00:00:00.000Z | 34083       | 1.52                          |\n",
    "| 2019-06-01T00:00:00.000Z | 35742       | 1.52                          |\n",
    "| 2019-05-01T00:00:00.000Z | 20768       | 1.52                          |\n",
    "| 2019-04-01T00:00:00.000Z | 44449       | 1.52                          |\n",
    "| 2019-05-01T00:00:00.000Z | 39336       | 1.52                          |\n",
    "| 2019-05-01T00:00:00.000Z | 36877       | 1.53                          |\n",
    "| 2019-05-01T00:00:00.000Z | 6127        | 1.53                          |\n",
    "| 2019-06-01T00:00:00.000Z | 6314        | 1.53                          |\n",
    "\n",
    "---"
   ]
  },
  {
   "cell_type": "markdown",
   "id": "ccbe8bc0",
   "metadata": {},
   "source": [
    "**3.2. Which 5 interests had the lowest average `ranking` value?**"
   ]
  },
  {
   "cell_type": "markdown",
   "id": "0e28ef7b",
   "metadata": {},
   "source": [
    "**Query #18**\n",
    "\n",
    "    SELECT interest_id,\n",
    "    \t   ROUND(AVG(ranking), 2) AS avg_ranking\n",
    "    FROM interest_removed\n",
    "    GROUP BY 1\n",
    "    ORDER BY 2\n",
    "    LIMIT 5;\n",
    "\n",
    "| interest_id | avg_ranking |\n",
    "| ----------- | ----------- |\n",
    "| 41548       | 1.00        |\n",
    "| 42203       | 4.11        |\n",
    "| 115         | 5.93        |\n",
    "| 171         | 9.36        |\n",
    "| 4           | 11.86       |\n",
    "\n",
    "---"
   ]
  },
  {
   "cell_type": "markdown",
   "id": "7375b36a",
   "metadata": {},
   "source": [
    "**3.3. Which 5 interests had the largest standard deviation in their `percentile_ranking` value?**"
   ]
  },
  {
   "cell_type": "markdown",
   "id": "404571f5",
   "metadata": {},
   "source": [
    "**Query #19**\n",
    "\n",
    "    SELECT interest_id,\n",
    "    \t   ROUND(STDDEV(percentile_ranking)::numeric, 2) AS std_dev_percentile_ranking\n",
    "    FROM interest_removed\n",
    "    GROUP BY 1\n",
    "    ORDER BY 2 DESC\n",
    "    LIMIT 5;\n",
    "\n",
    "| interest_id | std_dev_percentile_ranking |\n",
    "| ----------- | -------------------------- |\n",
    "| 23          | 30.18                      |\n",
    "| 20764       | 28.97                      |\n",
    "| 38992       | 28.32                      |\n",
    "| 43546       | 26.24                      |\n",
    "| 10839       | 25.61                      |\n",
    "\n",
    "---"
   ]
  },
  {
   "cell_type": "markdown",
   "id": "8895ae83",
   "metadata": {},
   "source": [
    "**3.4. For the 5 interests found in the previous question - what was minimum and maximum `percentile_ranking` values for each interest and its corresponding `year_month` value? Can you describe what is happening for these 5 interests?**"
   ]
  },
  {
   "cell_type": "markdown",
   "id": "4c936d70",
   "metadata": {},
   "source": [
    "**Query #20**\n",
    "\n",
    "    WITH t AS\n",
    "    (SELECT interest_id,\n",
    "    \t    MIN(percentile_ranking) AS min_percentile_ranking,\n",
    "            MAX(percentile_ranking) AS max_percentile_ranking\n",
    "     FROM interest_removed\n",
    "     WHERE interest_id IN (SELECT interest_id\n",
    "                           FROM interest_removed\n",
    "    \t\t\t\t\t   GROUP BY 1\n",
    "    \t\t\t\t\t   ORDER BY STDDEV(percentile_ranking) DESC\n",
    "    \t\t\t\t\t   LIMIT 5)\n",
    "     GROUP BY interest_id)\n",
    "     \n",
    "    SELECT t.interest_id,\n",
    "    \t   t.min_percentile_ranking,\n",
    "           MIN(t1.month_year) AS month_year_of_min_percentile_ranking,\n",
    "           t.max_percentile_ranking,\n",
    "           MIN(t2.month_year) AS month_year_of_max_percentile_ranking\n",
    "    FROM t\n",
    "    LEFT JOIN interest_removed t1 ON t.min_percentile_ranking = t1.percentile_ranking\n",
    "    LEFT JOIN interest_removed t2 ON t.max_percentile_ranking = t2.percentile_ranking\n",
    "    GROUP BY 1,2,4\n",
    "    ORDER BY 1;\n",
    "\n",
    "| interest_id | min_percentile_ranking | month_year_of_min_percentile_ranking | max_percentile_ranking | month_year_of_max_percentile_ranking |\n",
    "| ----------- | ---------------------- | ------------------------------------ | ---------------------- | ------------------------------------ |\n",
    "| 23          | 7.92                   | 2019-08-01T00:00:00.000Z             | 86.69                  | 2018-07-01T00:00:00.000Z             |\n",
    "| 10839       | 4.84                   | 2019-03-01T00:00:00.000Z             | 75.03                  | 2018-07-01T00:00:00.000Z             |\n",
    "| 20764       | 11.23                  | 2019-08-01T00:00:00.000Z             | 86.15                  | 2018-07-01T00:00:00.000Z             |\n",
    "| 38992       | 2.2                    | 2019-03-01T00:00:00.000Z             | 82.44                  | 2018-11-01T00:00:00.000Z             |\n",
    "| 43546       | 5.7                    | 2019-06-01T00:00:00.000Z             | 73.15                  | 2019-03-01T00:00:00.000Z             |\n",
    "\n",
    "---"
   ]
  },
  {
   "cell_type": "markdown",
   "id": "a7635b9f",
   "metadata": {},
   "source": [
    "**3.5. How would you describe our customers in this segment based off their `composition` and `ranking` values? What sort of products or services should we show to these customers and what should we avoid?**"
   ]
  },
  {
   "cell_type": "markdown",
   "id": "30696327",
   "metadata": {},
   "source": [
    "To be continued..."
   ]
  },
  {
   "cell_type": "markdown",
   "id": "cc27384f",
   "metadata": {},
   "source": [
    "**4. Index Analysis**"
   ]
  },
  {
   "cell_type": "markdown",
   "id": "d2dddad3",
   "metadata": {},
   "source": [
    "The `index_value` is a measure which can be used to reverse calculate the average composition for Fresh Segments’ clients.\n",
    "\n",
    "Average composition can be calculated by dividing the `composition` column by the `index_value` column rounded to 2 decimal places."
   ]
  },
  {
   "cell_type": "markdown",
   "id": "ab78652b",
   "metadata": {},
   "source": [
    "**4.1. What is the top 10 interests by the average composition for each month?**"
   ]
  },
  {
   "cell_type": "markdown",
   "id": "204a98d5",
   "metadata": {},
   "source": [
    "**Query #21**\n",
    "\n",
    "    WITH t AS\n",
    "    (SELECT month_year,\n",
    "    \t    interest_id,\n",
    "    \t    ROUND((composition/index_value)::numeric, 2) AS avg_composition,\n",
    "            RANK() OVER (PARTITION BY month_year ORDER BY ROUND((composition/index_value)::numeric, 2) DESC)\n",
    "     FROM interest_removed)\n",
    "     \n",
    "    SELECT *\n",
    "    FROM t\n",
    "    WHERE rank <=10;\n",
    "\n",
    "| month_year               | interest_id | avg_composition | rank |\n",
    "| ------------------------ | ----------- | --------------- | ---- |\n",
    "| 2018-07-01T00:00:00.000Z | 6324        | 7.36            | 1    |\n",
    "| 2018-07-01T00:00:00.000Z | 6284        | 6.94            | 2    |\n",
    "| 2018-07-01T00:00:00.000Z | 4898        | 6.78            | 3    |\n",
    "| 2018-07-01T00:00:00.000Z | 77          | 6.61            | 4    |\n",
    "| 2018-07-01T00:00:00.000Z | 39          | 6.51            | 5    |\n",
    "| 2018-07-01T00:00:00.000Z | 18619       | 6.10            | 6    |\n",
    "| 2018-07-01T00:00:00.000Z | 6208        | 5.72            | 7    |\n",
    "| 2018-07-01T00:00:00.000Z | 21060       | 4.85            | 8    |\n",
    "| 2018-07-01T00:00:00.000Z | 21057       | 4.80            | 9    |\n",
    "| 2018-07-01T00:00:00.000Z | 82          | 4.71            | 10   |\n",
    "| 2018-08-01T00:00:00.000Z | 6324        | 7.21            | 1    |\n",
    "| 2018-08-01T00:00:00.000Z | 6284        | 6.62            | 2    |\n",
    "| 2018-08-01T00:00:00.000Z | 77          | 6.53            | 3    |\n",
    "| 2018-08-01T00:00:00.000Z | 39          | 6.30            | 4    |\n",
    "| 2018-08-01T00:00:00.000Z | 4898        | 6.28            | 5    |\n",
    "| 2018-08-01T00:00:00.000Z | 21057       | 5.70            | 6    |\n",
    "| 2018-08-01T00:00:00.000Z | 18619       | 5.68            | 7    |\n",
    "| 2018-08-01T00:00:00.000Z | 6208        | 5.58            | 8    |\n",
    "| 2018-08-01T00:00:00.000Z | 7541        | 4.83            | 9    |\n",
    "| 2018-08-01T00:00:00.000Z | 5969        | 4.72            | 10   |\n",
    "| 2018-09-01T00:00:00.000Z | 21057       | 8.26            | 1    |\n",
    "| 2018-09-01T00:00:00.000Z | 21245       | 7.60            | 2    |\n",
    "| 2018-09-01T00:00:00.000Z | 7541        | 7.27            | 3    |\n",
    "| 2018-09-01T00:00:00.000Z | 5969        | 7.04            | 4    |\n",
    "| 2018-09-01T00:00:00.000Z | 18783       | 6.70            | 5    |\n",
    "| 2018-09-01T00:00:00.000Z | 10981       | 6.59            | 6    |\n",
    "| 2018-09-01T00:00:00.000Z | 34          | 6.53            | 7    |\n",
    "| 2018-09-01T00:00:00.000Z | 10977       | 6.47            | 8    |\n",
    "| 2018-09-01T00:00:00.000Z | 13497       | 6.25            | 9    |\n",
    "| 2018-09-01T00:00:00.000Z | 6065        | 6.24            | 10   |\n",
    "| 2018-10-01T00:00:00.000Z | 21057       | 9.14            | 1    |\n",
    "| 2018-10-01T00:00:00.000Z | 7541        | 7.10            | 2    |\n",
    "| 2018-10-01T00:00:00.000Z | 21245       | 7.02            | 3    |\n",
    "| 2018-10-01T00:00:00.000Z | 18783       | 7.02            | 3    |\n",
    "| 2018-10-01T00:00:00.000Z | 5969        | 6.94            | 5    |\n",
    "| 2018-10-01T00:00:00.000Z | 10981       | 6.91            | 6    |\n",
    "| 2018-10-01T00:00:00.000Z | 34          | 6.78            | 7    |\n",
    "| 2018-10-01T00:00:00.000Z | 10977       | 6.72            | 8    |\n",
    "| 2018-10-01T00:00:00.000Z | 12133       | 6.53            | 9    |\n",
    "| 2018-10-01T00:00:00.000Z | 6065        | 6.50            | 10   |\n",
    "| 2018-11-01T00:00:00.000Z | 21057       | 8.28            | 1    |\n",
    "| 2018-11-01T00:00:00.000Z | 21245       | 7.09            | 2    |\n",
    "| 2018-11-01T00:00:00.000Z | 6065        | 7.05            | 3    |\n",
    "| 2018-11-01T00:00:00.000Z | 7541        | 6.69            | 4    |\n",
    "| 2018-11-01T00:00:00.000Z | 18783       | 6.65            | 5    |\n",
    "| 2018-11-01T00:00:00.000Z | 5969        | 6.54            | 6    |\n",
    "| 2018-11-01T00:00:00.000Z | 10981       | 6.31            | 7    |\n",
    "| 2018-11-01T00:00:00.000Z | 10977       | 6.08            | 8    |\n",
    "| 2018-11-01T00:00:00.000Z | 34          | 5.95            | 9    |\n",
    "| 2018-11-01T00:00:00.000Z | 13497       | 5.59            | 10   |\n",
    "| 2018-12-01T00:00:00.000Z | 21057       | 8.31            | 1    |\n",
    "| 2018-12-01T00:00:00.000Z | 18783       | 6.96            | 2    |\n",
    "| 2018-12-01T00:00:00.000Z | 7541        | 6.68            | 3    |\n",
    "| 2018-12-01T00:00:00.000Z | 5969        | 6.63            | 4    |\n",
    "| 2018-12-01T00:00:00.000Z | 21245       | 6.58            | 5    |\n",
    "| 2018-12-01T00:00:00.000Z | 6065        | 6.55            | 6    |\n",
    "| 2018-12-01T00:00:00.000Z | 10981       | 6.48            | 7    |\n",
    "| 2018-12-01T00:00:00.000Z | 34          | 6.38            | 8    |\n",
    "| 2018-12-01T00:00:00.000Z | 10977       | 6.09            | 9    |\n",
    "| 2018-12-01T00:00:00.000Z | 21237       | 5.86            | 10   |\n",
    "| 2019-01-01T00:00:00.000Z | 21057       | 7.66            | 1    |\n",
    "| 2019-01-01T00:00:00.000Z | 6065        | 7.05            | 2    |\n",
    "| 2019-01-01T00:00:00.000Z | 21245       | 6.67            | 3    |\n",
    "| 2019-01-01T00:00:00.000Z | 5969        | 6.46            | 4    |\n",
    "| 2019-01-01T00:00:00.000Z | 18783       | 6.46            | 4    |\n",
    "| 2019-01-01T00:00:00.000Z | 7541        | 6.44            | 6    |\n",
    "| 2019-01-01T00:00:00.000Z | 10981       | 6.16            | 7    |\n",
    "| 2019-01-01T00:00:00.000Z | 34          | 5.96            | 8    |\n",
    "| 2019-01-01T00:00:00.000Z | 10977       | 5.65            | 9    |\n",
    "| 2019-01-01T00:00:00.000Z | 21237       | 5.48            | 10   |\n",
    "| 2019-01-01T00:00:00.000Z | 15878       | 5.48            | 10   |\n",
    "| 2019-02-01T00:00:00.000Z | 21057       | 7.66            | 1    |\n",
    "| 2019-02-01T00:00:00.000Z | 18783       | 6.84            | 2    |\n",
    "| 2019-02-01T00:00:00.000Z | 5969        | 6.76            | 3    |\n",
    "| 2019-02-01T00:00:00.000Z | 7541        | 6.65            | 4    |\n",
    "| 2019-02-01T00:00:00.000Z | 6065        | 6.58            | 5    |\n",
    "| 2019-02-01T00:00:00.000Z | 10981       | 6.56            | 6    |\n",
    "| 2019-02-01T00:00:00.000Z | 34          | 6.29            | 7    |\n",
    "| 2019-02-01T00:00:00.000Z | 21245       | 6.24            | 8    |\n",
    "| 2019-02-01T00:00:00.000Z | 19620       | 6.23            | 9    |\n",
    "| 2019-02-01T00:00:00.000Z | 10977       | 5.98            | 10   |\n",
    "| 2019-03-01T00:00:00.000Z | 7541        | 6.54            | 1    |\n",
    "| 2019-03-01T00:00:00.000Z | 18783       | 6.52            | 2    |\n",
    "| 2019-03-01T00:00:00.000Z | 5969        | 6.47            | 3    |\n",
    "| 2019-03-01T00:00:00.000Z | 6065        | 6.40            | 4    |\n",
    "| 2019-03-01T00:00:00.000Z | 21245       | 6.21            | 5    |\n",
    "| 2019-03-01T00:00:00.000Z | 10981       | 6.21            | 5    |\n",
    "| 2019-03-01T00:00:00.000Z | 19620       | 6.06            | 7    |\n",
    "| 2019-03-01T00:00:00.000Z | 34          | 6.01            | 8    |\n",
    "| 2019-03-01T00:00:00.000Z | 15878       | 5.65            | 9    |\n",
    "| 2019-03-01T00:00:00.000Z | 10977       | 5.61            | 10   |\n",
    "| 2019-03-01T00:00:00.000Z | 13497       | 5.61            | 10   |\n",
    "| 2019-04-01T00:00:00.000Z | 6065        | 6.28            | 1    |\n",
    "| 2019-04-01T00:00:00.000Z | 7541        | 6.21            | 2    |\n",
    "| 2019-04-01T00:00:00.000Z | 5969        | 6.05            | 3    |\n",
    "| 2019-04-01T00:00:00.000Z | 21245       | 6.02            | 4    |\n",
    "| 2019-04-01T00:00:00.000Z | 18783       | 6.01            | 5    |\n",
    "| 2019-04-01T00:00:00.000Z | 10981       | 5.65            | 6    |\n",
    "| 2019-04-01T00:00:00.000Z | 19620       | 5.52            | 7    |\n",
    "| 2019-04-01T00:00:00.000Z | 34          | 5.39            | 8    |\n",
    "| 2019-04-01T00:00:00.000Z | 15878       | 5.30            | 9    |\n",
    "| 2019-04-01T00:00:00.000Z | 13497       | 5.07            | 10   |\n",
    "| 2019-05-01T00:00:00.000Z | 21245       | 4.41            | 1    |\n",
    "| 2019-05-01T00:00:00.000Z | 15878       | 4.08            | 2    |\n",
    "| 2019-05-01T00:00:00.000Z | 6065        | 3.92            | 3    |\n",
    "| 2019-05-01T00:00:00.000Z | 19620       | 3.55            | 4    |\n",
    "| 2019-05-01T00:00:00.000Z | 7541        | 3.34            | 5    |\n",
    "| 2019-05-01T00:00:00.000Z | 2           | 3.29            | 6    |\n",
    "| 2019-05-01T00:00:00.000Z | 5969        | 3.25            | 7    |\n",
    "| 2019-05-01T00:00:00.000Z | 15884       | 3.19            | 8    |\n",
    "| 2019-05-01T00:00:00.000Z | 10981       | 3.19            | 8    |\n",
    "| 2019-05-01T00:00:00.000Z | 18783       | 3.15            | 10   |\n",
    "| 2019-06-01T00:00:00.000Z | 6324        | 2.77            | 1    |\n",
    "| 2019-06-01T00:00:00.000Z | 6284        | 2.55            | 2    |\n",
    "| 2019-06-01T00:00:00.000Z | 4898        | 2.55            | 2    |\n",
    "| 2019-06-01T00:00:00.000Z | 18619       | 2.52            | 4    |\n",
    "| 2019-06-01T00:00:00.000Z | 77          | 2.46            | 5    |\n",
    "| 2019-06-01T00:00:00.000Z | 39          | 2.39            | 6    |\n",
    "| 2019-06-01T00:00:00.000Z | 6253        | 2.35            | 7    |\n",
    "| 2019-06-01T00:00:00.000Z | 6208        | 2.27            | 8    |\n",
    "| 2019-06-01T00:00:00.000Z | 7535        | 2.21            | 9    |\n",
    "| 2019-06-01T00:00:00.000Z | 107         | 2.20            | 10   |\n",
    "| 2019-07-01T00:00:00.000Z | 6324        | 2.82            | 1    |\n",
    "| 2019-07-01T00:00:00.000Z | 77          | 2.81            | 2    |\n",
    "| 2019-07-01T00:00:00.000Z | 6284        | 2.79            | 3    |\n",
    "| 2019-07-01T00:00:00.000Z | 39          | 2.79            | 3    |\n",
    "| 2019-07-01T00:00:00.000Z | 18619       | 2.78            | 5    |\n",
    "| 2019-07-01T00:00:00.000Z | 4898        | 2.78            | 5    |\n",
    "| 2019-07-01T00:00:00.000Z | 6253        | 2.77            | 7    |\n",
    "| 2019-07-01T00:00:00.000Z | 7535        | 2.73            | 8    |\n",
    "| 2019-07-01T00:00:00.000Z | 6208        | 2.72            | 9    |\n",
    "| 2019-07-01T00:00:00.000Z | 7536        | 2.66            | 10   |\n",
    "| 2019-08-01T00:00:00.000Z | 4898        | 2.73            | 1    |\n",
    "| 2019-08-01T00:00:00.000Z | 6284        | 2.72            | 2    |\n",
    "| 2019-08-01T00:00:00.000Z | 6324        | 2.70            | 3    |\n",
    "| 2019-08-01T00:00:00.000Z | 18619       | 2.68            | 4    |\n",
    "| 2019-08-01T00:00:00.000Z | 6065        | 2.66            | 5    |\n",
    "| 2019-08-01T00:00:00.000Z | 39          | 2.59            | 6    |\n",
    "| 2019-08-01T00:00:00.000Z | 77          | 2.59            | 6    |\n",
    "| 2019-08-01T00:00:00.000Z | 4931        | 2.56            | 8    |\n",
    "| 2019-08-01T00:00:00.000Z | 6253        | 2.55            | 9    |\n",
    "| 2019-08-01T00:00:00.000Z | 6208        | 2.53            | 10   |\n",
    "\n",
    "---"
   ]
  },
  {
   "cell_type": "markdown",
   "id": "443a29ca",
   "metadata": {},
   "source": [
    "**4.2. For all of these top 10 interests - which interest appears the most often?**"
   ]
  },
  {
   "cell_type": "markdown",
   "id": "d0e05cd8",
   "metadata": {},
   "source": [
    "**Query #22**\n",
    "\n",
    "    WITH t AS\n",
    "    (SELECT month_year,\n",
    "    \t    interest_id,\n",
    "    \t    ROUND((composition/index_value)::numeric, 2) AS avg_composition,\n",
    "            RANK() OVER (PARTITION BY month_year ORDER BY ROUND((composition/index_value)::numeric, 2) DESC) AS avg_composition_rank\n",
    "     FROM interest_removed),\n",
    "     \n",
    "     temp AS\n",
    "    (SELECT interest_id,\n",
    "    \t    COUNT(*) AS interest_cnt,\n",
    "            RANK() OVER(ORDER BY COUNT(*) DESC) AS interest_cnt_rank\n",
    "     FROM t\n",
    "     WHERE avg_composition_rank <=10\n",
    "     GROUP BY 1)\n",
    "     \n",
    "    SELECT interest_id,\n",
    "    \t   interest_cnt\n",
    "    FROM temp\n",
    "    WHERE interest_cnt_rank = 1;\n",
    "\n",
    "| interest_id | interest_cnt |\n",
    "| ----------- | ------------ |\n",
    "| 7541        | 10           |\n",
    "| 6065        | 10           |\n",
    "| 5969        | 10           |\n",
    "\n",
    "---"
   ]
  },
  {
   "cell_type": "markdown",
   "id": "1f0b858a",
   "metadata": {},
   "source": [
    "**4.3. What is the average of the average composition for the top 10 interests for each month?**"
   ]
  },
  {
   "cell_type": "markdown",
   "id": "c1a762c8",
   "metadata": {},
   "source": [
    "**Query #23**\n",
    "\n",
    "    WITH t AS\n",
    "    (SELECT month_year,\n",
    "    \t    interest_id,\n",
    "    \t    ROUND((composition/index_value)::numeric, 2) AS avg_composition,\n",
    "            RANK() OVER (PARTITION BY month_year ORDER BY ROUND((composition/index_value)::numeric, 2) DESC)\n",
    "     FROM interest_removed)\n",
    "     \n",
    "    SELECT month_year,\n",
    "           ROUND(AVG(avg_composition), 2) AS avg_of_avg_composition\n",
    "    FROM t\n",
    "    WHERE rank <=10\n",
    "    GROUP BY 1;\n",
    "\n",
    "| month_year               | avg_of_avg_composition |\n",
    "| ------------------------ | ---------------------- |\n",
    "| 2018-07-01T00:00:00.000Z | 6.04                   |\n",
    "| 2018-08-01T00:00:00.000Z | 5.95                   |\n",
    "| 2018-09-01T00:00:00.000Z | 6.90                   |\n",
    "| 2018-10-01T00:00:00.000Z | 7.07                   |\n",
    "| 2018-11-01T00:00:00.000Z | 6.62                   |\n",
    "| 2018-12-01T00:00:00.000Z | 6.65                   |\n",
    "| 2019-01-01T00:00:00.000Z | 6.32                   |\n",
    "| 2019-02-01T00:00:00.000Z | 6.58                   |\n",
    "| 2019-03-01T00:00:00.000Z | 6.12                   |\n",
    "| 2019-04-01T00:00:00.000Z | 5.75                   |\n",
    "| 2019-05-01T00:00:00.000Z | 3.54                   |\n",
    "| 2019-06-01T00:00:00.000Z | 2.43                   |\n",
    "| 2019-07-01T00:00:00.000Z | 2.77                   |\n",
    "| 2019-08-01T00:00:00.000Z | 2.63                   |\n",
    "\n",
    "---"
   ]
  },
  {
   "cell_type": "markdown",
   "id": "9dc9630b",
   "metadata": {},
   "source": [
    "**4.4. What is the 3 month rolling average of the max average composition value from September 2018 to August 2019 and include the previous top ranking interests in the same output shown below.**"
   ]
  },
  {
   "cell_type": "markdown",
   "id": "1390826c",
   "metadata": {},
   "source": [
    "**Query #24**\n",
    "\n",
    "    CREATE TEMP TABLE month_interest_composition AS\n",
    "    (SELECT *\n",
    "     FROM (SELECT month_year,\n",
    "    \t    \t  interest_id,\n",
    "    \t    \t  ROUND((composition/index_value)::numeric, 2) AS avg_composition,\n",
    "            \t  RANK() OVER (PARTITION BY month_year ORDER BY ROUND((composition/index_value)::numeric, 2) DESC)\n",
    "     \t   FROM interest_removed) t\n",
    "    WHERE rank <=10);\n",
    "\n",
    "There are no results to be displayed."
   ]
  },
  {
   "cell_type": "markdown",
   "id": "72644163",
   "metadata": {},
   "source": [
    "**Query #25**\n",
    "\n",
    "    WITH t AS\n",
    "    (SELECT month_year,\n",
    "    \t    MAX(avg_composition) AS max_index_composition\n",
    "     FROM month_interest_composition\n",
    "     GROUP BY 1)\n",
    "    \n",
    "    SELECT *\n",
    "    FROM (SELECT t.month_year,\n",
    "    \t   \t\t interest_id,\n",
    "           \t\t max_index_composition,\n",
    "           \t\t ROUND(AVG(max_index_composition) OVER (ORDER BY t.month_year ROWS BETWEEN 2 PRECEDING AND CURRENT ROW), 2) AS three_month_moving_avg,\n",
    "           \t\t CONCAT(LAG(interest_id) OVER(ORDER BY t.month_year), ': ', LAG(max_index_composition) OVER(ORDER BY t.month_year)) AS one_month_ago,\n",
    "           \t\t CONCAT(LAG(interest_id, 2) OVER(ORDER BY t.month_year), ': ', LAG(max_index_composition, 2) OVER(ORDER BY t.month_year)) AS two_months_ago\n",
    "    \t  FROM t\n",
    "    \t  LEFT JOIN month_interest_composition m ON t.max_index_composition = m.avg_composition) temp\n",
    "    WHERE month_year BETWEEN '2018-09-01' AND '2019-08-01';\n",
    "\n",
    "| month_year               | interest_id | max_index_composition | three_month_moving_avg | one_month_ago | two_months_ago |\n",
    "| ------------------------ | ----------- | --------------------- | ---------------------- | ------------- | -------------- |\n",
    "| 2018-09-01T00:00:00.000Z | 21057       | 8.26                  | 7.61                   | 6324: 7.21    | 6324: 7.36     |\n",
    "| 2018-10-01T00:00:00.000Z | 21057       | 9.14                  | 8.20                   | 21057: 8.26   | 6324: 7.21     |\n",
    "| 2018-11-01T00:00:00.000Z | 21057       | 8.28                  | 8.56                   | 21057: 9.14   | 21057: 8.26    |\n",
    "| 2018-12-01T00:00:00.000Z | 21057       | 8.31                  | 8.58                   | 21057: 8.28   | 21057: 9.14    |\n",
    "| 2019-01-01T00:00:00.000Z | 21057       | 7.66                  | 8.08                   | 21057: 8.31   | 21057: 8.28    |\n",
    "| 2019-01-01T00:00:00.000Z | 21057       | 7.66                  | 7.88                   | 21057: 7.66   | 21057: 8.31    |\n",
    "| 2019-02-01T00:00:00.000Z | 21057       | 7.66                  | 7.66                   | 21057: 7.66   | 21057: 7.66    |\n",
    "| 2019-02-01T00:00:00.000Z | 21057       | 7.66                  | 7.66                   | 21057: 7.66   | 21057: 7.66    |\n",
    "| 2019-03-01T00:00:00.000Z | 5969        | 6.54                  | 7.29                   | 21057: 7.66   | 21057: 7.66    |\n",
    "| 2019-03-01T00:00:00.000Z | 7541        | 6.54                  | 6.91                   | 5969: 6.54    | 21057: 7.66    |\n",
    "| 2019-04-01T00:00:00.000Z | 4898        | 6.28                  | 6.45                   | 7541: 6.54    | 5969: 6.54     |\n",
    "| 2019-04-01T00:00:00.000Z | 6065        | 6.28                  | 6.37                   | 4898: 6.28    | 7541: 6.54     |\n",
    "| 2019-05-01T00:00:00.000Z | 21245       | 4.41                  | 5.66                   | 6065: 6.28    | 4898: 6.28     |\n",
    "| 2019-06-01T00:00:00.000Z | 6324        | 2.77                  | 4.49                   | 21245: 4.41   | 6065: 6.28     |\n",
    "| 2019-06-01T00:00:00.000Z | 6253        | 2.77                  | 3.32                   | 6324: 2.77    | 21245: 4.41    |\n",
    "| 2019-07-01T00:00:00.000Z | 6324        | 2.82                  | 2.79                   | 6253: 2.77    | 6324: 2.77     |\n",
    "| 2019-08-01T00:00:00.000Z | 7535        | 2.73                  | 2.77                   | 6324: 2.82    | 6253: 2.77     |\n",
    "| 2019-08-01T00:00:00.000Z | 4898        | 2.73                  | 2.76                   | 7535: 2.73    | 6324: 2.82     |\n",
    "\n",
    "---"
   ]
  }
 ],
 "metadata": {
  "kernelspec": {
   "display_name": "Python 3 (ipykernel)",
   "language": "python",
   "name": "python3"
  },
  "language_info": {
   "codemirror_mode": {
    "name": "ipython",
    "version": 3
   },
   "file_extension": ".py",
   "mimetype": "text/x-python",
   "name": "python",
   "nbconvert_exporter": "python",
   "pygments_lexer": "ipython3",
   "version": "3.9.7"
  }
 },
 "nbformat": 4,
 "nbformat_minor": 5
}
